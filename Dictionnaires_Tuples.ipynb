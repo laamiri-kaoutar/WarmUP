{
 "cells": [
  {
   "cell_type": "markdown",
   "id": "36db1499",
   "metadata": {},
   "source": [
    "Challenge 1 : Manipulation des dictionnaires Python"
   ]
  },
  {
   "cell_type": "code",
   "execution_count": null,
   "id": "9e8496b0",
   "metadata": {},
   "outputs": [],
   "source": [
    "First_dict = { \"Appareil\": \"Laptop\", \"Marque\": \"IBM\", \"Carte mère\": \"MSI Z490\", \"Carte Graphique\":\"GeForce RTX 3070\", \"RAM\": \"16G\", \"Processeur\": \"Intel core i7-G11\", \"SSD\": \"1 To\" }\n",
    "\n",
    "First_dict[\"RAM\"] = \"32G\"\n",
    "\n",
    "print(\"La liste des clés du dictionnaire\")\n",
    "\n",
    "for x in First_dict : \n",
    "    print(x)\n",
    "\n",
    "print(\"La liste des valeurs\")\n",
    "\n",
    "for x in First_dict.values(): \n",
    "    print(x)\n",
    "\n",
    "print(\"La liste des paires clé-valeur\")\n",
    "\n",
    "for x in First_dict.items(): \n",
    "    print(x)\n",
    "\n",
    "First_dict[First_dict[\"Processeur\"]] = \"Processeur\"\n",
    "First_dict[First_dict[\"Carte Graphique\"]] = \"Carte Graphique\"\n",
    "\n",
    "del First_dict[\"Processeur\"]\n",
    "del First_dict[\"Carte Graphique\"]\n",
    "\n",
    "First_dict[\"Système d’exploitation\"] = \"Windows 10\"\n",
    "\n",
    "etudiantNonAdmis , etudiantAdmis  = {} , {}\n",
    "\n",
    "\n",
    "notes_eleves = { \"Amine\": 15.5, \"Yassine\": 19.0, \"Reda\": 14.2, \"Malak\": 8.7, \"Manal\": 20.0, \"Ahmed\": 7.5,\"Saad\": 11.3, \"Hannae\": 9.8 }\n",
    "for name , note in First_dict.items(): \n",
    "    if note < 10 :\n",
    "        etudiantNonAdmis[name] = note\n",
    "    else : \n",
    "        etudiantAdmis[name] = note\n"
   ]
  },
  {
   "cell_type": "markdown",
   "id": "0328a3d5",
   "metadata": {},
   "source": [
    "Challenge 2 : Mise à Jour de Dictionnaires"
   ]
  },
  {
   "cell_type": "code",
   "execution_count": null,
   "id": "68e88fb6",
   "metadata": {},
   "outputs": [
    {
     "name": "stdout",
     "output_type": "stream",
     "text": [
      "{'apple': 1.2, 'banana': 0.5, 'orange': 0.8, 'Alice': 25, 'Bob': 30, 'Charlie': 35}\n"
     ]
    }
   ],
   "source": [
    "books = {\n",
    "    'fiction': 'The Great Gatsby',\n",
    "    'mystery': 'Sherlock Holmes',\n",
    "    'sci-fi': 'Dune'\n",
    "}   \n",
    "ages = {\n",
    "    'Alice': 25,\n",
    "    'Bob': 30,\n",
    "    'Charlie': 35\n",
    "}   \n",
    "fruits = {\n",
    "    'apple': 1.20,\n",
    "    'banana': 0.50,\n",
    "    'orange': 0.80\n",
    "}   \n",
    "\n",
    "final_result = {}\n",
    "final_result.update(books)\n",
    "final_result.update(fruits)\n",
    "final_result.update(ages)\n",
    "\n",
    "print(final_result)"
   ]
  },
  {
   "cell_type": "markdown",
   "id": "2a6b5f26",
   "metadata": {},
   "source": [
    "Challenge 3 : Conversion de Deux Listes en Dictionnaire"
   ]
  },
  {
   "cell_type": "code",
   "execution_count": null,
   "id": "a61ef0f8",
   "metadata": {},
   "outputs": [
    {
     "name": "stdout",
     "output_type": "stream",
     "text": [
      "{'nom': 'Alice', 'âge': 30, 'ville': 'Paris'}\n"
     ]
    }
   ],
   "source": [
    "key = [\"nom\", \"âge\", \"ville\"]\n",
    "values = [\"othman\", 30, \"Safi\"]\n",
    "final_dict = {}\n",
    "\n",
    "for x , y in zip(key , values):\n",
    "    final_dict[x] = y\n",
    "\n",
    "print(final_dict)\n",
    "\n"
   ]
  },
  {
   "cell_type": "markdown",
   "id": "b959c0a5",
   "metadata": {},
   "source": [
    "Challenge 4 : Tri d'un Dictionnaire"
   ]
  },
  {
   "cell_type": "code",
   "execution_count": 11,
   "id": "f59e253d",
   "metadata": {},
   "outputs": [
    {
     "name": "stdout",
     "output_type": "stream",
     "text": [
      "{'Manal': 20.0, 'Yassine': 19.0, 'Amine': 15.5, 'Reda': 14.2, 'Saad': 11.3, 'Hannae': 9.8, 'Malak': 8.7, 'Ahmed': 7.5}\n"
     ]
    }
   ],
   "source": [
    "notes_eleves = { \"Amine\": 15.5, \"Yassine\": 19.0, \"Reda\": 14.2, \"Malak\": 8.7, \"Manal\": 20.0, \"Ahmed\": 7.5,\"Saad\": 11.3, \"Hannae\": 9.8 }\n",
    "\n",
    "def find_max(L : list):\n",
    "    max = L[0]\n",
    "    \n",
    "    for pair in L : \n",
    "        if pair[1] > max[1] :  max = pair\n",
    "           \n",
    "    return max\n",
    "# find the max \n",
    "# add it to the new dict \n",
    "# delete it from the list of items and so on \n",
    "\n",
    "def sorting_dict(D) :\n",
    "\n",
    "    dict_items = [ (x, y) for (x , y) in D.items()]\n",
    "    l_leng = len(dict_items)\n",
    "    sorted_dict = {}\n",
    "\n",
    "    for i in range(l_leng):\n",
    "        max = find_max(dict_items)\n",
    "        sorted_dict[max[0]] = max[1]\n",
    "        dict_items.remove(max)\n",
    "    \n",
    "    return sorted_dict\n",
    "\n",
    "print(sorting_dict(notes_eleves))\n",
    "\n",
    "\n",
    "\n"
   ]
  },
  {
   "cell_type": "markdown",
   "id": "ecf889a4",
   "metadata": {},
   "source": [
    "Challenge 5 : Manipulation de tuples"
   ]
  },
  {
   "cell_type": "code",
   "execution_count": 24,
   "id": "ef811a35",
   "metadata": {},
   "outputs": [
    {
     "name": "stdout",
     "output_type": "stream",
     "text": [
      "('Yasmine', 22, 'Informatique', 17.4, 'Très Bien', 2039)\n"
     ]
    }
   ],
   "source": [
    "student_info = ( \"Yasmine\",  22,  \"Informatique\", 17.4)\n",
    "info_params = (\"Prénom \" , \"Âge\" , \"Filière \" , \"Moyenne générale\" )\n",
    "\n",
    "# for inf , parm in zip(student_info ,info_params) :\n",
    "#     print(parm ,\" : \" , inf) \n",
    "\n",
    "# student_info[2] = \"art\" # this will generate an erro because the tuples are immutable\n",
    "\n",
    "# print(f\"{info_params[:2]} \\n {student_info[:2]}\")\n",
    "\n",
    "student_info_2 = student_info + tuple([\"Très Bien\"])  \n",
    "student_info_2 += tuple([2020]) \n",
    "\n",
    "student_info_2 = student_info + (\"Très Bien\" , 2039)  \n",
    "\n",
    "\n",
    "\n",
    "print(student_info_2)"
   ]
  }
 ],
 "metadata": {
  "kernelspec": {
   "display_name": "Python 3",
   "language": "python",
   "name": "python3"
  },
  "language_info": {
   "codemirror_mode": {
    "name": "ipython",
    "version": 3
   },
   "file_extension": ".py",
   "mimetype": "text/x-python",
   "name": "python",
   "nbconvert_exporter": "python",
   "pygments_lexer": "ipython3",
   "version": "3.13.7"
  }
 },
 "nbformat": 4,
 "nbformat_minor": 5
}
