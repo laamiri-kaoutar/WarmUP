{
 "cells": [
  {
   "cell_type": "markdown",
   "id": "af850358",
   "metadata": {},
   "source": [
    "Challenge 1 : Extraction et Traitement de Fichiers"
   ]
  },
  {
   "cell_type": "code",
   "execution_count": null,
   "id": "1431deb9",
   "metadata": {},
   "outputs": [
    {
     "data": {
      "text/plain": [
       "<function TextIOWrapper.close()>"
      ]
     },
     "execution_count": 18,
     "metadata": {},
     "output_type": "execute_result"
    }
   ],
   "source": [
    "import os\n",
    "\n",
    "path = \"../files/\"\n",
    "\n",
    "files = os.listdir(path)\n",
    "\n",
    "\n",
    "\n",
    "# for file in files :\n",
    "#     p = \"../files/\"+ file \n",
    "#     with open(p , \"r+\") as f :\n",
    "#         f.readlines()\n",
    "    \n",
    "#     f.close\n",
    "\n",
    "\n",
    "with open(path +\"all_content.txt\", \"a+\") as new_file :\n",
    "\n",
    "    for file in files :\n",
    "\n",
    "        with open(path+file) as f :\n",
    "             content = f.read()\n",
    "             new_file.write(content)\n",
    "        \n",
    "        f.close\n",
    "\n",
    "new_file.close\n"
   ]
  },
  {
   "cell_type": "markdown",
   "id": "4d106344",
   "metadata": {},
   "source": [
    "Challenge 2 : Recherche de Fichiers"
   ]
  },
  {
   "cell_type": "code",
   "execution_count": 20,
   "id": "a04909fa",
   "metadata": {},
   "outputs": [],
   "source": [
    "import os\n",
    "\n",
    "if os.path.exists(\"config.yaml\") : \n",
    "    with  open(\"config.yaml\") as f :\n",
    "        print(f.readlines)\n",
    "    f.close\n",
    "\n"
   ]
  },
  {
   "cell_type": "markdown",
   "id": "e1259a93",
   "metadata": {},
   "source": [
    "Challenge 4 : Création de Répertoires"
   ]
  },
  {
   "cell_type": "code",
   "execution_count": 27,
   "id": "8d0a7566",
   "metadata": {},
   "outputs": [],
   "source": [
    "import os \n",
    "\n",
    "name_list = [\"Jackson\" , \"Fire\" , \"Cocaine\" , \"Remote\"]\n",
    "\n",
    "if not os.path.exists(\"../new_folder\") :\n",
    "    os.mkdir(\"../new_folder\") \n",
    "\n",
    "path = \"../new_folder/\"\n",
    "for name in name_list : \n",
    "    if not os.path.exists(path+name) :\n",
    "        os.mkdir(path+name) \n",
    "\n"
   ]
  },
  {
   "cell_type": "markdown",
   "id": "65c5d738",
   "metadata": {},
   "source": [
    "Challenge 5 : Copie Sélective de Fichiers"
   ]
  },
  {
   "cell_type": "code",
   "execution_count": null,
   "id": "db7d1e2b",
   "metadata": {},
   "outputs": [],
   "source": [
    "import os\n",
    "import shutil\n",
    "\n",
    "source = \"../Files/\"\n",
    "tagret = \"../file_copies/\"\n",
    "\n",
    "if not os.path.exists(tagret) :\n",
    "    os.mkdir(tagret)\n",
    "\n",
    "\n",
    "files = os.listdir(source)\n",
    "\n",
    "for file in files :\n",
    "\n",
    "    if  \".txt\" in file :\n",
    "        shutil.copy(source + file , tagret + file)\n",
    "        os.remove(source + file)\n",
    "    \n"
   ]
  },
  {
   "cell_type": "markdown",
   "id": "29a4cb4d",
   "metadata": {},
   "source": [
    "Challenge 6 : Écriture de Fichiers"
   ]
  },
  {
   "cell_type": "code",
   "execution_count": 37,
   "id": "d9fa521b",
   "metadata": {},
   "outputs": [
    {
     "name": "stdout",
     "output_type": "stream",
     "text": [
      " the content of your file is : \n",
      " zssssssssssssssssssssssssssssssssssssss\n",
      "sssssssssssssssssssssssssssssssssssssssss\n",
      "sssssssssssssssssssssssssssssssssssssjjjjjjjj\n",
      "dddddddddddddddd\n",
      "cccccccccccccc\n",
      "\n",
      "ffffffffffffffffffffffffffffffff\n",
      "\n"
     ]
    }
   ],
   "source": [
    "\n",
    "with open(\"../files/challenge_6.txt\" , \"a+\") as f :\n",
    "   \n",
    "   keep_writing  = True\n",
    "\n",
    "   while keep_writing :\n",
    "      \n",
    "      contenu = input(\"enter the content of the file :\")\n",
    "      f.write(contenu +\"\\n\")\n",
    "\n",
    "      keep_writing = bool(input(\"would you keep writing :\"))\n",
    "\n",
    "f.close()\n",
    "\n",
    "with open(\"../files/challenge_6.txt\" , \"r+\") as f :\n",
    "\n",
    "   f_data = f.read()\n",
    "   print(\" the content of your file is : \\n\",f_data)\n",
    "f.close()\n",
    "\n"
   ]
  }
 ],
 "metadata": {
  "kernelspec": {
   "display_name": "Python 3",
   "language": "python",
   "name": "python3"
  },
  "language_info": {
   "codemirror_mode": {
    "name": "ipython",
    "version": 3
   },
   "file_extension": ".py",
   "mimetype": "text/x-python",
   "name": "python",
   "nbconvert_exporter": "python",
   "pygments_lexer": "ipython3",
   "version": "3.13.7"
  }
 },
 "nbformat": 4,
 "nbformat_minor": 5
}
