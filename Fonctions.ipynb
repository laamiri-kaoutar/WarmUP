{
 "cells": [
  {
   "cell_type": "markdown",
   "id": "c4b4f4d9",
   "metadata": {},
   "source": [
    "Challenge 1 : Présentation personnalisé"
   ]
  },
  {
   "cell_type": "code",
   "execution_count": null,
   "id": "a6522f12",
   "metadata": {},
   "outputs": [
    {
     "name": "stdout",
     "output_type": "stream",
     "text": [
      "Dear employe kk \n",
      " your salary is 24742.0 dirhams\n"
     ]
    }
   ],
   "source": [
    "name = input(\"dear employee enter your name\") \n",
    "salary_per_hour = float(input(\"enter your salary\"))\n",
    "hours = int (input(\"how many house you work per day\"))\n",
    "\n",
    "def horaire_sup(hours):\n",
    "    if hours <= 40 :\n",
    "        return salary_per_hour*hours\n",
    "    else : \n",
    "       return salary_per_hour*(hours*1.5 -20)\n",
    "\n",
    "print(f\"Dear employe {name} \\nyour salary is {horaire_sup(hours)} dirhams\")"
   ]
  },
  {
   "cell_type": "markdown",
   "id": "c1be4553",
   "metadata": {},
   "source": [
    "Challenge 2 : Fonction calculation() – somme et différence"
   ]
  },
  {
   "cell_type": "code",
   "execution_count": 2,
   "id": "7041ffaf",
   "metadata": {},
   "outputs": [
    {
     "name": "stdout",
     "output_type": "stream",
     "text": [
      "(11, -7)\n"
     ]
    }
   ],
   "source": [
    "def calculation(a,b ) :\n",
    "    return (a+b) , (a-b)\n",
    "\n",
    "print(calculation(2,9))"
   ]
  },
  {
   "cell_type": "markdown",
   "id": "756aade5",
   "metadata": {},
   "source": [
    "Challenge 3 : Mini-projets algorithmiques regroupés"
   ]
  },
  {
   "cell_type": "code",
   "execution_count": null,
   "id": "09f8af47",
   "metadata": {},
   "outputs": [
    {
     "name": "stdout",
     "output_type": "stream",
     "text": [
      "Le caractère 'D' figure 1 fois\n",
      "Le caractère 'e' figure 10 fois\n",
      "Le caractère 'm' figure 1 fois\n",
      "Le caractère 'a' figure 10 fois\n",
      "Le caractère 'n' figure 5 fois\n",
      "Le caractère 'd' figure 2 fois\n",
      "Le caractère 'r' figure 8 fois\n",
      "Le caractère 'u' figure 7 fois\n",
      "Le caractère 'c' figure 7 fois\n",
      "Le caractère 'h' figure 3 fois\n",
      "Le caractère 'î' figure 1 fois\n",
      "Le caractère 't' figure 4 fois\n",
      "Le caractère 'è' figure 2 fois\n",
      "Le caractère 's' figure 3 fois\n",
      "Le caractère 'à' figure 1 fois\n",
      "Le caractère 'l' figure 2 fois\n",
      "Le caractère '’' figure 1 fois\n",
      "Le caractère 'i' figure 4 fois\n",
      "Le caractère ',' figure 1 fois\n",
      "Le caractère 'p' figure 2 fois\n",
      "Le caractère 'f' figure 2 fois\n",
      "Le caractère 'q' figure 1 fois\n"
     ]
    }
   ],
   "source": [
    "# la factorielle  (n!).\n",
    "\n",
    "def factorielle(n):\n",
    "    if n == 1 : \n",
    "        return n\n",
    "    else :\n",
    "        return n*factorielle(n-1)\n",
    "\n",
    "# print(factorielle(5))  \n",
    "   \n",
    "# table de multiplication\n",
    "\n",
    "def multiplication(n):\n",
    "    return [ x*n for x in range(11) ]\n",
    "# print( multiplication(5))\n",
    "\n",
    "#  carré parfait\n",
    "# from math import sqrt\n",
    "# epsilon = 10**(-100)\n",
    "def carre_parfait(n):\n",
    "    for i in range(n):\n",
    "        if(i**2==n):\n",
    "            return True\n",
    "    return False    \n",
    "# abs(x-i)\n",
    "\n",
    "# print(carre_parfait(25) , carre_parfait(65))\n",
    "\n",
    "# afficher chaque caractère\n",
    "\n",
    "def afficher(chaine):\n",
    "    for x in chaine:\n",
    "        print(x)\n",
    "\n",
    "# afficher(\"something\")\n",
    "\n",
    "# afficher le mot le plus long de cette phrase\n",
    "\n",
    "def longest_word(ph):\n",
    "\n",
    "    list_words = ph.split()\n",
    "    word = list_words[0]\n",
    "\n",
    "    for i in range(1,len(list_words)) :\n",
    "\n",
    "        if len(word) < len(list_words[i]) : word = list_words[i]\n",
    "    \n",
    "    return word\n",
    "# print(longest_word(\"afficher le mot le plus long de cette phrase\"))\n",
    "\n",
    "# nombre d’occurrences de chaque caractère\n",
    "\n",
    "def nombre_occurrences(phrase):\n",
    "    result = {}\n",
    "    for x in phrase : \n",
    "        if x != \" \": \n",
    "            if x in result : \n",
    "                result[x] += 1\n",
    "            else : \n",
    "                result[x] = 1\n",
    "    return result\n",
    "\n",
    "\n",
    "result = nombre_occurrences(\"Demander une chaîne de caractères à l’utilisateur, puis afficher chaque caractère un par un\")\n",
    "\n",
    "for i ,x in result.items():\n",
    "    print(f\"Le caractère '{i}' figure {x} fois\")\n",
    "                \n"
   ]
  },
  {
   "cell_type": "code",
   "execution_count": null,
   "id": "a03beb25",
   "metadata": {},
   "outputs": [
    {
     "name": "stdout",
     "output_type": "stream",
     "text": [
      "dict_values([1, 2, 3])\n"
     ]
    }
   ],
   "source": [
    "my_dict = {'a': 1, 'b': 2, 'c': 3}\n",
    "\n",
    "print(my_dict.values())  \n",
    "print(my_dict.items()) "
   ]
  }
 ],
 "metadata": {
  "kernelspec": {
   "display_name": "Python 3",
   "language": "python",
   "name": "python3"
  },
  "language_info": {
   "codemirror_mode": {
    "name": "ipython",
    "version": 3
   },
   "file_extension": ".py",
   "mimetype": "text/x-python",
   "name": "python",
   "nbconvert_exporter": "python",
   "pygments_lexer": "ipython3",
   "version": "3.13.7"
  }
 },
 "nbformat": 4,
 "nbformat_minor": 5
}
