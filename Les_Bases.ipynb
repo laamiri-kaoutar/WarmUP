{
 "cells": [
  {
   "cell_type": "markdown",
   "id": "44d95548",
   "metadata": {},
   "source": [
    "Challenge 1 : Présentation personnalisée"
   ]
  },
  {
   "cell_type": "code",
   "execution_count": null,
   "id": "1df3f4a2",
   "metadata": {},
   "outputs": [
    {
     "name": "stdout",
     "output_type": "stream",
     "text": [
      "welcome to python koko , you are 21 old now\n"
     ]
    }
   ],
   "source": [
    "name = input(\"enter your name\")\n",
    "age = int(input(\"how old are you ?\"))\n",
    "print(f\"welcome to python {name} , you are {age} old now\")"
   ]
  },
  {
   "cell_type": "markdown",
   "id": "859be4b1",
   "metadata": {},
   "source": [
    "Challenge 2 : Calcul de salaire avec heures supplémentaires"
   ]
  },
  {
   "cell_type": "code",
   "execution_count": null,
   "id": "54d9b07c",
   "metadata": {},
   "outputs": [],
   "source": []
  },
  {
   "cell_type": "code",
   "execution_count": 3,
   "id": "5307ffa5",
   "metadata": {},
   "outputs": [
    {
     "name": "stdout",
     "output_type": "stream",
     "text": [
      "Dear employe koko \n",
      " your salary is 96856.02 dirhams\n"
     ]
    }
   ],
   "source": [
    "name = input(\"dear employee enter your name\") \n",
    "salary_per_hour = float(input(\"enter your salary\"))\n",
    "hours = int (input(\"how many house you work per day\"))\n",
    "\n",
    "if hours <= 40 :\n",
    "    salary = salary_per_hour*hours\n",
    "else : \n",
    "    salary = salary_per_hour*(hours*1.5 -20)\n",
    "\n",
    "print(f\"Dear employe {name} \\n your salary is {salary} dirhams\")\n"
   ]
  },
  {
   "cell_type": "markdown",
   "id": "3c3155ec",
   "metadata": {},
   "source": [
    "Challenge 3 : Gestion des erreurs utilisateur"
   ]
  },
  {
   "cell_type": "code",
   "execution_count": null,
   "id": "42b5fa80",
   "metadata": {},
   "outputs": [
    {
     "name": "stdout",
     "output_type": "stream",
     "text": [
      " There was an invalid value.  Try again...\n"
     ]
    }
   ],
   "source": [
    "try : \n",
    "    name = input(\"dear employee enter your name\") \n",
    "    salary_per_hour = float(input(\"enter your salary\"))\n",
    "    hours = int (input(\"how many house you work per day\"))\n",
    "    if hours <= 40 :\n",
    "        salary = salary_per_hour*hours\n",
    "    else : \n",
    "        salary = salary_per_hour*(hours*1.5 -20)\n",
    "        # x = salary_per_hour*(40+ (hours-40)*1.5)\n",
    "    \n",
    "    print(f\"Dear employe {name} \\n your salary is {salary} dirhams\")\n",
    "    \n",
    "except ValueError :\n",
    "    print(\" There was an invalid value.  Try again...\")\n",
    "    \n"
   ]
  },
  {
   "cell_type": "markdown",
   "id": "926eab78",
   "metadata": {},
   "source": [
    "Challenge 4 : Déterminer le signe d’un produit de deux nombres\n"
   ]
  },
  {
   "cell_type": "code",
   "execution_count": null,
   "id": "f63732d3",
   "metadata": {},
   "outputs": [],
   "source": []
  },
  {
   "cell_type": "code",
   "execution_count": 3,
   "id": "76e06039",
   "metadata": {},
   "outputs": [
    {
     "name": "stdout",
     "output_type": "stream",
     "text": [
      "the product of these numbers is negative\n"
     ]
    }
   ],
   "source": [
    "try : \n",
    "    n1, n2 = int(input('enter first number')) , int(input('enter second number')) \n",
    "    pr = n1*n2\n",
    "    \n",
    "    if pr < 0 : \n",
    "        print(\"the product of these numbers is negative\") \n",
    "    elif pr > 0 : \n",
    "        print(\"the product of these numbers is positive\")  \n",
    "    else : \n",
    "        print(\"the product is null\")\n",
    "except ValueError :\n",
    "    print(\"Bad value for the numbers , Try again ...\")"
   ]
  },
  {
   "cell_type": "markdown",
   "id": "deaa8776",
   "metadata": {},
   "source": [
    "Challenge 5 : Somme d’entiers"
   ]
  },
  {
   "cell_type": "code",
   "execution_count": 6,
   "id": "2d94723f",
   "metadata": {},
   "outputs": [
    {
     "name": "stdout",
     "output_type": "stream",
     "text": [
      "the summe from 1 to 0 is 15\n"
     ]
    }
   ],
   "source": [
    "n = int(input(\"enter a number\"))\n",
    "sum = 0\n",
    "while n >0 :\n",
    "    sum += n\n",
    "    n -= 1\n",
    "\n",
    "print(f\"the summe from 1 to {n} is {sum}\")\n"
   ]
  },
  {
   "cell_type": "markdown",
   "id": "e8d4a37b",
   "metadata": {},
   "source": [
    "Challenge 6 : Inverser une chaîne"
   ]
  },
  {
   "cell_type": "code",
   "execution_count": 9,
   "id": "3a259b12",
   "metadata": {},
   "outputs": [
    {
     "name": "stdout",
     "output_type": "stream",
     "text": [
      "the original : IAveD \n",
      " the inversed : DevAI\n"
     ]
    }
   ],
   "source": [
    "chaine = input(\"enter a word :\")\n",
    "i = len(chaine) -1 \n",
    "inv_chaine = \"\"\n",
    "while i >= 0 :\n",
    "    inv_chaine += chaine[i]\n",
    "    i -= 1\n",
    "print(f\"the original : {chaine} \\n the inversed : {inv_chaine}\")\n",
    "\n",
    "\n"
   ]
  },
  {
   "cell_type": "markdown",
   "id": "cb082eba",
   "metadata": {},
   "source": [
    "Challenge 7 : Calcul de distance entre deux points"
   ]
  },
  {
   "cell_type": "code",
   "execution_count": 12,
   "id": "39ff0af4",
   "metadata": {},
   "outputs": [
    {
     "name": "stdout",
     "output_type": "stream",
     "text": [
      " the distance between (5.0, 6.0) and  (4.0, 6.0) is : 1.0\n"
     ]
    }
   ],
   "source": [
    "import math \n",
    "# print(\"enter the value of the first point: \")\n",
    "x1 , y1 = float(input(\"x1 : \")) , float(input(\"y1 : \"))\n",
    "\n",
    "# print(\"enter the value of the second point: \")\n",
    "x2 , y2 = float(input(\"x2 : \")) , float(input(\"y2 : \"))\n",
    "\n",
    "distance = math.sqrt((x1- x2)**2 + (y1 - y2)**2)\n",
    "\n",
    "print(f\" the distance between ({x1}, {y1}) and  ({x2}, {y2}) is : {distance:.5}\")"
   ]
  }
 ],
 "metadata": {
  "kernelspec": {
   "display_name": "Python 3",
   "language": "python",
   "name": "python3"
  },
  "language_info": {
   "codemirror_mode": {
    "name": "ipython",
    "version": 3
   },
   "file_extension": ".py",
   "mimetype": "text/x-python",
   "name": "python",
   "nbconvert_exporter": "python",
   "pygments_lexer": "ipython3",
   "version": "3.13.7"
  }
 },
 "nbformat": 4,
 "nbformat_minor": 5
}
