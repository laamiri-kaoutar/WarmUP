{
 "cells": [
  {
   "cell_type": "markdown",
   "id": "b7840fa0",
   "metadata": {},
   "source": [
    "Challenge 1 : La liste des notes"
   ]
  },
  {
   "cell_type": "code",
   "execution_count": null,
   "id": "b6cfafd4",
   "metadata": {},
   "outputs": [
    {
     "name": "stdout",
     "output_type": "stream",
     "text": [
      "[12, 14, 18, 13, 15, 14, 16]\n"
     ]
    }
   ],
   "source": [
    "notes = [12, 4, 14, 11, 18, 13, 7, 10, 5, 9, 15, 8, 14, 16]\n",
    "\n",
    "moy = 0\n",
    "sum = 0\n",
    "\n",
    "for i in notes : \n",
    "    sum += i\n",
    "moy = sum / len(notes)\n",
    "\n",
    "new_list = [x for x in notes if x >= moy ]\n",
    "print(\"the avarege is : \", moy)\n",
    "print(new_list)\n"
   ]
  },
  {
   "cell_type": "markdown",
   "id": "fd5b938c",
   "metadata": {},
   "source": [
    "Challenge 2 : Les mots communs"
   ]
  },
  {
   "cell_type": "code",
   "execution_count": 4,
   "id": "531e6d2e",
   "metadata": {},
   "outputs": [
    {
     "name": "stdout",
     "output_type": "stream",
     "text": [
      "the commun words are : ['langage', 'Python', 'est']\n"
     ]
    }
   ],
   "source": [
    "ch1 = \"Le langage Python est très populaire\" \n",
    "\n",
    "ch2 = \"Python est un langage puissant\"\n",
    "\n",
    "c1 , c2 = ch1.split() , ch2.split()\n",
    "\n",
    "commun_words = [x for x in c1 for y in c2 if x == y ]\n",
    "\n",
    "print(\"the commun words are :\" , commun_words)\n"
   ]
  },
  {
   "cell_type": "markdown",
   "id": "cc5ae7bd",
   "metadata": {},
   "source": [
    "Challenge 3 : Manipulation et tri de listes mixtes"
   ]
  },
  {
   "cell_type": "code",
   "execution_count": null,
   "id": "5d3a86e6",
   "metadata": {},
   "outputs": [
    {
     "name": "stdout",
     "output_type": "stream",
     "text": [
      "['Classeur', 'Crayon', 'Feutre', 'Stylo', 'Surligneur']\n",
      "[100, 40, 25, 12, 5]\n"
     ]
    }
   ],
   "source": [
    "stock = [\"Stylo\", 25, \"Classeur\", 100, \"Crayon\", 12, \"Surligneur\", 40, \"Feutre\", 5]\n",
    "\n",
    "num_vals = [ x for x in stock if isinstance(x , int )]\n",
    "str_vals = [ x for x in stock if isinstance(x , str )]\n",
    "\n",
    "for i in range(len(num_vals)) :\n",
    "    for j in range( i+1 ,len(num_vals)) : \n",
    "        if num_vals[i] < num_vals[j] : \n",
    "            temp= num_vals[i]\n",
    "            num_vals[i] = num_vals[j]\n",
    "            num_vals[j] = temp\n",
    "\n",
    "for i in range(len(str_vals)) :\n",
    "    for j in range( i+1 ,len(str_vals)) : \n",
    "        if str_vals[i] > str_vals[j] : \n",
    "            temp= str_vals[i]\n",
    "            str_vals[i] = str_vals[j]\n",
    "            str_vals[j] = temp\n",
    "\n",
    "print(str_vals) \n",
    "print(num_vals)\n",
    "\n"
   ]
  },
  {
   "cell_type": "markdown",
   "id": "3c44e341",
   "metadata": {},
   "source": [
    "Challenge 4 : Recherche d’un élément dans une liste"
   ]
  },
  {
   "cell_type": "code",
   "execution_count": 11,
   "id": "d2abfe42",
   "metadata": {},
   "outputs": [
    {
     "name": "stdout",
     "output_type": "stream",
     "text": [
      "1\n"
     ]
    }
   ],
   "source": [
    "Fruits = [\"pomme\", \"banane\", \"orange\", \"kiwi\", \"mangue\"]\n",
    "\n",
    "def rechercheElement(l , w) :\n",
    "    for i in range(len(l)) :\n",
    "        if w == l[i]:\n",
    "            return i \n",
    "    return False\n",
    "\n",
    "print(rechercheElement(Fruits , \"banane\"))"
   ]
  },
  {
   "cell_type": "markdown",
   "id": "35b546f6",
   "metadata": {},
   "source": [
    "Challenge 5 : Nombre d'occurrences"
   ]
  },
  {
   "cell_type": "code",
   "execution_count": 14,
   "id": "04d4d272",
   "metadata": {},
   "outputs": [
    {
     "name": "stdout",
     "output_type": "stream",
     "text": [
      "3\n"
     ]
    }
   ],
   "source": [
    "L = [7 , 23 , 5 , 23 , 7 , 19 , 23 , 12 , 29]\n",
    "\n",
    "def occurrences(l , n) : \n",
    "    x = 0\n",
    "    for i in range(len(l)) :\n",
    "       if l[i] == n : \n",
    "          x += 1\n",
    "    return x\n",
    "print(occurrences(L,23))"
   ]
  }
 ],
 "metadata": {
  "kernelspec": {
   "display_name": "Python 3",
   "language": "python",
   "name": "python3"
  },
  "language_info": {
   "codemirror_mode": {
    "name": "ipython",
    "version": 3
   },
   "file_extension": ".py",
   "mimetype": "text/x-python",
   "name": "python",
   "nbconvert_exporter": "python",
   "pygments_lexer": "ipython3",
   "version": "3.13.7"
  }
 },
 "nbformat": 4,
 "nbformat_minor": 5
}
