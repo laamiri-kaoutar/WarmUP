{
 "cells": [
  {
   "cell_type": "markdown",
   "id": "a83906f7",
   "metadata": {},
   "source": [
    "Challenge 1 : Filtrage avancé avec fonctions"
   ]
  },
  {
   "cell_type": "code",
   "execution_count": 6,
   "id": "c00dc3f2",
   "metadata": {},
   "outputs": [
    {
     "name": "stdout",
     "output_type": "stream",
     "text": [
      "[12, 15, 20]\n",
      "[12, 90, 88, 20, 0, 8]\n"
     ]
    }
   ],
   "source": [
    "def filtrer_liste( L : list , critere ):\n",
    "    return list(filter(critere , L ))\n",
    "\n",
    "print(filtrer_liste([1, 12, 9, 15, 20, 3], lambda x: x > 10))\n",
    "print(filtrer_liste([1, 12,90, 9, 15 , 88, 20, 3, 1, 0 , 8], lambda x: x % 2 == 0))\n",
    "\n",
    "\n",
    "# fruit_lst = [\"Apple\", \"Banana\", \"Pear\", \"Apricot\", \"Orange\"]\n",
    "# filtered_lst = filter(lambda x:  x[0]==\"A\" , fruit_lst)\n",
    "\n",
    "# print(list(filtered_lst))"
   ]
  },
  {
   "cell_type": "markdown",
   "id": "96d9aa6a",
   "metadata": {},
   "source": [
    "Challenge 2 : Transformation Avancée de Données"
   ]
  },
  {
   "cell_type": "code",
   "execution_count": 9,
   "id": "6b46b055",
   "metadata": {},
   "outputs": [
    {
     "name": "stdout",
     "output_type": "stream",
     "text": [
      "[9, 64, 81, 144, 7744]\n"
     ]
    }
   ],
   "source": [
    "number_list = list([1, -12, 90 , -9, 15 , -88, 20, -3, 1, 0 , -8])\n",
    "\n",
    "neg_numbers = list(filter(lambda x : x < 0 , number_list)) \n",
    "\n",
    "neg_numbers_squers =list(map(lambda x : x **2 , neg_numbers)) \n",
    "\n",
    "sorted_numbers = sorted(neg_numbers_squers)\n",
    "\n",
    "print(sorted_numbers)"
   ]
  },
  {
   "cell_type": "markdown",
   "id": "8f995fcd",
   "metadata": {},
   "source": [
    "Challenge 3 : Tri personnalisé avec clé dynamique"
   ]
  },
  {
   "cell_type": "code",
   "execution_count": 15,
   "id": "6c85c4c9",
   "metadata": {},
   "outputs": [
    {
     "name": "stdout",
     "output_type": "stream",
     "text": [
      "[{'nom': 'Diana', 'note': 95}, {'nom': 'Bob', 'note': 92}, {'nom': 'Eve', 'note': 88}, {'nom': 'Alice', 'note': 85}, {'nom': 'Charlie', 'note': 78}]\n",
      "[{'nom': 'Alice', 'note': 85}, {'nom': 'Bob', 'note': 92}, {'nom': 'Charlie', 'note': 78}, {'nom': 'Diana', 'note': 95}, {'nom': 'Eve', 'note': 88}]\n"
     ]
    }
   ],
   "source": [
    "students = [\n",
    "    {'nom': 'Alice', 'note': 85}, \n",
    "    {'nom': 'Bob', 'note': 92}, \n",
    "    {'nom': 'Charlie', 'note': 78},\n",
    "    {'nom': 'Diana', 'note': 95},\n",
    "    {'nom': 'Eve', 'note': 88}\n",
    "]\n",
    "\n",
    "def trier_etudiants( L , fonction , option = False ) :\n",
    "    return sorted(L , key= fonction , reverse= option )\n",
    "    \n",
    "print(trier_etudiants(students , lambda student : student['note'] , True) )\n",
    "print(trier_etudiants(students , lambda student : student['nom'] ) )"
   ]
  },
  {
   "cell_type": "markdown",
   "id": "16f203cc",
   "metadata": {},
   "source": [
    "Challenge 4 : Fusion intelligente de listes"
   ]
  },
  {
   "cell_type": "code",
   "execution_count": null,
   "id": "a96c7eaa",
   "metadata": {},
   "outputs": [
    {
     "name": "stdout",
     "output_type": "stream",
     "text": [
      "[0, 1, 2, 3, 4, 5, 6, 9, 11, 90]\n",
      "[0, 1, 2, 3, 4, 5, 6, 9, 11, 90]\n"
     ]
    }
   ],
   "source": [
    "def fusionner_listes( L1 : list , L2 : list , func) :\n",
    "    L1.extend(L2)\n",
    "    return list(set(sorted(L1 , key= func)))\n",
    "\n",
    "liste1 = [1, 3, 5, 3, 6, 90, 9, 0]\n",
    "liste2 = [2, 3, 4, 5, 11, 6]\n",
    "\n",
    "\n",
    "f1 = lambda x : x \n",
    "# f2 = lambda x : x**2 \n",
    "\n",
    "\n",
    "print(fusionner_listes(liste1 , liste2 , f1))\n",
    "\n",
    "\n"
   ]
  },
  {
   "cell_type": "markdown",
   "id": "4ac7552c",
   "metadata": {},
   "source": [
    "Challenge 5 : Partitionnement de liste"
   ]
  },
  {
   "cell_type": "code",
   "execution_count": 43,
   "id": "35d8bb1a",
   "metadata": {},
   "outputs": [
    {
     "name": "stdout",
     "output_type": "stream",
     "text": [
      "([25, 4, 9, 16], [0, 1, 2, 5, 6, 112])\n",
      "([0, 2, 4, 6, 16, 112], [1, 25, 5, 9])\n"
     ]
    }
   ],
   "source": [
    "\n",
    "\n",
    "def care_parfiat(x):\n",
    "     for i in range(x): \n",
    "          if i**2 == x :\n",
    "               return True\n",
    "     else : \n",
    "         return False  \n",
    "\n",
    "lst = [0, 1, 2, 25, 4, 5, 6, 9, 16, 112]\n",
    "\n",
    "\n",
    "def partitionner_liste ( L , critere) :\n",
    "     l1 = list(filter(critere , L))\n",
    "     l2 = list(filter( lambda x: not critere(x) , L))\n",
    "     # l2 = [ x for x in L if not critere(x)]\n",
    "     return (l1 , l2)\n",
    "\n",
    "pair_impair = lambda x: x % 2 == 0\n",
    "\n",
    "print(partitionner_liste(lst , care_parfiat))\n",
    "print(partitionner_liste(lst , pair_impair))\n",
    "\n",
    "\n"
   ]
  },
  {
   "cell_type": "markdown",
   "id": "8384a34f",
   "metadata": {},
   "source": [
    "Challenge 6 : Réduction avec accumulation personnalisée"
   ]
  },
  {
   "cell_type": "code",
   "execution_count": null,
   "id": "c4ae5c2e",
   "metadata": {},
   "outputs": [
    {
     "name": "stdout",
     "output_type": "stream",
     "text": [
      "24\n"
     ]
    }
   ],
   "source": [
    "def reduire_liste( L , fonc , initiale_value):\n",
    "    accumulator = initiale_value\n",
    "\n",
    "    for x in L :\n",
    "        accumulator = fonc(accumulator , x)\n",
    "    \n",
    "    return accumulator\n",
    "\n",
    "lst = [0, 1, 2, 25, 4, 5, 6, 9, 16, 112]\n",
    "\n",
    "print(reduire_liste(lst , lambda x, y : x + y , 0))\n",
    "print(reduire_liste(lst , lambda x, y : x * y , 1))\n"
   ]
  },
  {
   "cell_type": "markdown",
   "id": "7919ca8f",
   "metadata": {},
   "source": [
    "Challenge 7 : Transformation imbriquée"
   ]
  },
  {
   "cell_type": "code",
   "execution_count": 51,
   "id": "3fc93c53",
   "metadata": {},
   "outputs": [
    {
     "name": "stdout",
     "output_type": "stream",
     "text": [
      "[2, [4, 6, [8, 10]], 12]\n"
     ]
    }
   ],
   "source": [
    "def transformer_imbriquee(list_imb , fonc) :\n",
    "    # result =[]\n",
    "\n",
    "    # for item in list_imb :\n",
    "    #     if isinstance(item , list) : \n",
    "    #         result.append(transformer_imbriquee(item , fonc))\n",
    "            \n",
    "    #     else :\n",
    "    #         result.append( fonc(item))\n",
    "    # return result \n",
    "    \n",
    "\n",
    "    return  list(map(  lambda item : transformer_imbriquee(item , fonc) if isinstance(item , list) else fonc(item)\n",
    "        , list_imb))\n",
    "\n",
    "\n",
    "\n",
    "\n",
    "print(transformer_imbriquee([1, [2, 3, [4, 5]], 6] , lambda x: x * 2))"
   ]
  },
  {
   "cell_type": "code",
   "execution_count": 53,
   "id": "83109098",
   "metadata": {},
   "outputs": [
    {
     "name": "stdout",
     "output_type": "stream",
     "text": [
      "[12, 15, 20]\n"
     ]
    }
   ],
   "source": [
    "def filtrer_liste( L , critere):\n",
    "    return list(filter(critere , L))\n",
    "\n",
    "print(filtrer_liste ([1, 12, 9, 15, 20, 3] , lambda x: x > 10))"
   ]
  }
 ],
 "metadata": {
  "kernelspec": {
   "display_name": "Python 3",
   "language": "python",
   "name": "python3"
  },
  "language_info": {
   "codemirror_mode": {
    "name": "ipython",
    "version": 3
   },
   "file_extension": ".py",
   "mimetype": "text/x-python",
   "name": "python",
   "nbconvert_exporter": "python",
   "pygments_lexer": "ipython3",
   "version": "3.13.7"
  }
 },
 "nbformat": 4,
 "nbformat_minor": 5
}
