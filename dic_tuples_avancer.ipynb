{
 "cells": [
  {
   "cell_type": "markdown",
   "id": "68fb8ef4",
   "metadata": {},
   "source": [
    "Challenge 1 : Fusion de dictionnaires avec mise à jour personnalisée"
   ]
  },
  {
   "cell_type": "code",
   "execution_count": 4,
   "id": "afae404e",
   "metadata": {},
   "outputs": [
    {
     "name": "stdout",
     "output_type": "stream",
     "text": [
      "{'b': 5, 'c': 4, 'a': 1}\n"
     ]
    }
   ],
   "source": [
    "def fusionner_dictionnaires( dct1 , dct2 , fusion_function) :\n",
    "    \n",
    "    result_dict  , loop_dict = (dct1 , dct2) if len(dct1) > len(dct2) else (dct2 , dct1)\n",
    "\n",
    "    for key , value  in loop_dict.items() :\n",
    "\n",
    "        if key in result_dict : \n",
    "            result_dict.update({key :  fusion_function(value , result_dict[key])})\n",
    "        else :\n",
    "            result_dict.setdefault(key , value)\n",
    "           \n",
    "\n",
    "    return result_dict\n",
    "\n",
    "dict1 = {'a': 1, 'b': 2}\n",
    "dict2 = {'b': 3, 'c': 4}\n",
    "func = lambda x, y: x + y\n",
    "\n",
    "print(fusionner_dictionnaires(dict1 , dict2 , func))\n",
    "\n"
   ]
  },
  {
   "cell_type": "markdown",
   "id": "d0d2b45c",
   "metadata": {},
   "source": [
    "Challenge 2 : Filtrage de dictionnaire par valeurs"
   ]
  },
  {
   "cell_type": "code",
   "execution_count": null,
   "id": "ce822ab8",
   "metadata": {},
   "outputs": [
    {
     "name": "stdout",
     "output_type": "stream",
     "text": [
      "{'b': 12, 'c': 8}\n"
     ]
    }
   ],
   "source": [
    "def filtrer_dictionnaire(dct , critere):\n",
    "\n",
    "    # return dict([ (x ,y) for (x, y) in dct.items() if critere(y)])\n",
    "    return  dict([ filter(lambda paire : critere(paire[1]) , dct.items() )])\n",
    "\n",
    "test = {'a': 5, 'b': 12, 'c': 8, 'd': 15}\n",
    "critere_test = lambda x: x > 10\n",
    "critere_test_pair_impaire = lambda x: x % 2 == 0\n",
    "\n",
    "\n",
    "print(filtrer_dictionnaire(test , critere_test_pair_impaire))"
   ]
  },
  {
   "cell_type": "markdown",
   "id": "35036e93",
   "metadata": {},
   "source": [
    "Challenge 3 : Création de tuples à partir de dictionnaires"
   ]
  },
  {
   "cell_type": "code",
   "execution_count": 18,
   "id": "83a7c9e5",
   "metadata": {},
   "outputs": [
    {
     "name": "stdout",
     "output_type": "stream",
     "text": [
      "[('a', 10), ('b', 5), ('c', 15)]\n"
     ]
    }
   ],
   "source": [
    "def dictionnaire_vers_tuples (D , critere):\n",
    "\n",
    "    D_items = [ (x ,y) for (x ,y ) in D.items() ]\n",
    "\n",
    "    return sorted(D_items , key= critere )\n",
    "\n",
    "\n",
    "a = {'a': 10, 'b': 5, 'c': 15}\n",
    "b =  lambda x: x[0]\n",
    "\n",
    "print(dictionnaire_vers_tuples(a ,b ))"
   ]
  },
  {
   "cell_type": "markdown",
   "id": "66abdbaa",
   "metadata": {},
   "source": [
    "Challenge 4 : Regroupement par clé dans un dictionnaire"
   ]
  },
  {
   "cell_type": "code",
   "execution_count": 23,
   "id": "f880aebf",
   "metadata": {},
   "outputs": [
    {
     "name": "stdout",
     "output_type": "stream",
     "text": [
      "{'a': [1, 3], 'b': [2, 5], 'c': [4, 2], 'd': [2]}\n"
     ]
    }
   ],
   "source": [
    "def regrouper_tuples ( tuple_list ):\n",
    "\n",
    "    result_dict = {}\n",
    "\n",
    "    for key , value in tuple_list :\n",
    "\n",
    "        if key in result_dict : \n",
    "            result_dict[key].append(value)\n",
    "        else :\n",
    "            result_dict.setdefault( key , [value])\n",
    "\n",
    "    return result_dict\n",
    "\n",
    "print( regrouper_tuples([('a', 1), ('b', 2), ('a', 3), ('c', 4) ,  ('b', 5) , ('c', 2) , ('d', 2)]))"
   ]
  },
  {
   "cell_type": "markdown",
   "id": "30870b64",
   "metadata": {},
   "source": [
    "Challenge 5 : Transformation de tuples avec fonction"
   ]
  },
  {
   "cell_type": "code",
   "execution_count": 26,
   "id": "b2c7afa5",
   "metadata": {},
   "outputs": [
    {
     "name": "stdout",
     "output_type": "stream",
     "text": [
      "[(2, 4), (6, 8)]\n"
     ]
    }
   ],
   "source": [
    "def transformer_tuples( list_tuple , critere) :\n",
    "\n",
    "    result = []\n",
    "    for t in list_tuple :\n",
    "        result.append(tuple(map(critere , t )))\n",
    "    return result\n",
    "\n",
    "    # return list(map(lambda t : tuple(map(critere , t )) , list_tuple ))\n",
    "\n",
    "print(transformer_tuples( [(1, 2), (3, 4)] , lambda x: x * 2))"
   ]
  },
  {
   "cell_type": "markdown",
   "id": "973ecede",
   "metadata": {},
   "source": [
    "Challenge 6 : Dictionnaire imbriqué à plat"
   ]
  },
  {
   "cell_type": "code",
   "execution_count": null,
   "id": "5f3c592d",
   "metadata": {},
   "outputs": [
    {
     "name": "stdout",
     "output_type": "stream",
     "text": [
      "[('a', 1), ('b.c', 2), ('b.d', 3), ('b.S.Q', 0), ('b.S.N', 7), ('k', 6)]\n"
     ]
    }
   ],
   "source": [
    "def aplatir_dictionnaire(dct_imb , prev_key =\"\"  ) :\n",
    "\n",
    "    result = []\n",
    "    \n",
    "\n",
    "    for key , value in dct_imb.items() :\n",
    "\n",
    "        if  isinstance (value , dict) :\n",
    "            # print(value.items())\n",
    "\n",
    "            result.extend(aplatir_dictionnaire(value ,  prev_key+key+\".\"))\n",
    "\n",
    "            # map(lambda x ,y  :  result.append(( key+x , y)) , l) \n",
    "        else : \n",
    "            result.append((prev_key+key , value))\n",
    "\n",
    "    return result\n",
    "\n",
    "print(aplatir_dictionnaire({'a': 1, 'b': {'c': 2, 'd': 3 , 'S': {'Q': 0, 'N': 7}} , 'k' : 6}))\n"
   ]
  },
  {
   "cell_type": "code",
   "execution_count": 47,
   "id": "6844ce92",
   "metadata": {},
   "outputs": [
    {
     "name": "stdout",
     "output_type": "stream",
     "text": [
      "5.823529411764706\n"
     ]
    }
   ],
   "source": [
    "def sans_doublons(lst) :\n",
    "    return list(set(lst))\n",
    "\n",
    "# print(sans_doublons([1, 1 ,6 ,6, 7, 8]))\n",
    "\n",
    "# print(sum([1, 1 ,6 ,6, 7, 8]))\n",
    "\n",
    "l1 = [1, 1 ,6 ,6, 7, 8]\n",
    "l2 = [7, 3 ,2 ,6, 25, 8]\n",
    "\n",
    "result = sum([(x*y) for x,y in zip(l1 ,l2)]) / sum(l2)\n",
    "\n",
    "print(result)"
   ]
  }
 ],
 "metadata": {
  "kernelspec": {
   "display_name": "Python 3",
   "language": "python",
   "name": "python3"
  },
  "language_info": {
   "codemirror_mode": {
    "name": "ipython",
    "version": 3
   },
   "file_extension": ".py",
   "mimetype": "text/x-python",
   "name": "python",
   "nbconvert_exporter": "python",
   "pygments_lexer": "ipython3",
   "version": "3.13.7"
  }
 },
 "nbformat": 4,
 "nbformat_minor": 5
}
