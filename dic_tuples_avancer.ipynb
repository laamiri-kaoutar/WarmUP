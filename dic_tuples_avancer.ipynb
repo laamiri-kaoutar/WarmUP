{
 "cells": [
  {
   "cell_type": "markdown",
   "id": "68fb8ef4",
   "metadata": {},
   "source": [
    "Challenge 1 : Fusion de dictionnaires avec mise à jour personnalisée"
   ]
  },
  {
   "cell_type": "code",
   "execution_count": null,
   "id": "afae404e",
   "metadata": {},
   "outputs": [
    {
     "ename": "TypeError",
     "evalue": "dict expected at most 1 argument, got 2",
     "output_type": "error",
     "traceback": [
      "\u001b[31m---------------------------------------------------------------------------\u001b[39m",
      "\u001b[31mTypeError\u001b[39m                                 Traceback (most recent call last)",
      "\u001b[36mCell\u001b[39m\u001b[36m \u001b[39m\u001b[32mIn[2]\u001b[39m\u001b[32m, line 21\u001b[39m\n\u001b[32m     18\u001b[39m dict2 = {\u001b[33m'\u001b[39m\u001b[33mb\u001b[39m\u001b[33m'\u001b[39m: \u001b[32m3\u001b[39m, \u001b[33m'\u001b[39m\u001b[33mc\u001b[39m\u001b[33m'\u001b[39m: \u001b[32m4\u001b[39m}\n\u001b[32m     19\u001b[39m func = \u001b[38;5;28;01mlambda\u001b[39;00m x, y: x + y\n\u001b[32m---> \u001b[39m\u001b[32m21\u001b[39m \u001b[38;5;28mprint\u001b[39m(\u001b[43mfusionner_dictionnaires\u001b[49m\u001b[43m(\u001b[49m\u001b[43mdict1\u001b[49m\u001b[43m \u001b[49m\u001b[43m,\u001b[49m\u001b[43m \u001b[49m\u001b[43mdict2\u001b[49m\u001b[43m \u001b[49m\u001b[43m,\u001b[49m\u001b[43m \u001b[49m\u001b[43mfunc\u001b[49m\u001b[43m)\u001b[49m)\n",
      "\u001b[36mCell\u001b[39m\u001b[36m \u001b[39m\u001b[32mIn[2]\u001b[39m\u001b[32m, line 8\u001b[39m, in \u001b[36mfusionner_dictionnaires\u001b[39m\u001b[34m(dct1, dct2, fusion_function)\u001b[39m\n\u001b[32m      5\u001b[39m \u001b[38;5;28;01mfor\u001b[39;00m key , value  \u001b[38;5;129;01min\u001b[39;00m loop_dict.items() :\n\u001b[32m      7\u001b[39m     \u001b[38;5;28;01mif\u001b[39;00m key \u001b[38;5;129;01min\u001b[39;00m result_dict : \n\u001b[32m----> \u001b[39m\u001b[32m8\u001b[39m         result_dict.update(\u001b[38;5;28;43mdict\u001b[39;49m\u001b[43m(\u001b[49m\u001b[43mkey\u001b[49m\u001b[43m \u001b[49m\u001b[43m,\u001b[49m\u001b[43m  \u001b[49m\u001b[43mfusion_function\u001b[49m\u001b[43m(\u001b[49m\u001b[43mvalue\u001b[49m\u001b[43m \u001b[49m\u001b[43m,\u001b[49m\u001b[43m \u001b[49m\u001b[43mresult_dict\u001b[49m\u001b[43m[\u001b[49m\u001b[43mkey\u001b[49m\u001b[43m]\u001b[49m\u001b[43m)\u001b[49m\u001b[43m)\u001b[49m)\n\u001b[32m     11\u001b[39m     \u001b[38;5;28;01melse\u001b[39;00m :\n\u001b[32m     12\u001b[39m         result_dict.setdefault(key , value)\n",
      "\u001b[31mTypeError\u001b[39m: dict expected at most 1 argument, got 2"
     ]
    }
   ],
   "source": [
    "def fusionner_dictionnaires( dct1 , dct2 , fusion_function) :\n",
    "    \n",
    "    result_dict  , loop_dict = (dct1 , dct2) if len(dct1) > len(dct2) else (dct2 , dct1)\n",
    "\n",
    "    for key , value  in loop_dict.items() :\n",
    "\n",
    "        if key in result_dict : \n",
    "            result_dict.update(dict(key   fusion_function(value , result_dict[key])))\n",
    "\n",
    "        \n",
    "        else :\n",
    "            result_dict.setdefault(key , value)\n",
    "           \n",
    "\n",
    "    return result_dict\n",
    "\n",
    "dict1 = {'a': 1, 'b': 2}\n",
    "dict2 = {'b': 3, 'c': 4}\n",
    "func = lambda x, y: x + y\n",
    "\n",
    "print(fusionner_dictionnaires(dict1 , dict2 , func))\n",
    "\n"
   ]
  }
 ],
 "metadata": {
  "kernelspec": {
   "display_name": "Python 3",
   "language": "python",
   "name": "python3"
  },
  "language_info": {
   "codemirror_mode": {
    "name": "ipython",
    "version": 3
   },
   "file_extension": ".py",
   "mimetype": "text/x-python",
   "name": "python",
   "nbconvert_exporter": "python",
   "pygments_lexer": "ipython3",
   "version": "3.13.7"
  }
 },
 "nbformat": 4,
 "nbformat_minor": 5
}
